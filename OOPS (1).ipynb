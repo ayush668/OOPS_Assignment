{
 "cells": [
  {
   "cell_type": "code",
   "execution_count": null,
   "id": "c6cc2db4-1c5a-406d-bb4d-b363ff3bb839",
   "metadata": {},
   "outputs": [],
   "source": [
    "#1. What are the five key concepts of Object-Oriented Programming (OOP)?\n",
    "'''Ans.\n",
    "Here are the five key concepts of Object-Oriented Programming (OOP) explained in simple terms:\n",
    "\n",
    "1.Encapsulation:  \n",
    "This means keeping all the data (like variables) and actions (like functions) related to an object together in one place, called a class. It also allows you to control who can use or change the data.\n",
    "\n",
    "2.Abstraction:  \n",
    "Abstraction means showing only the important details and hiding the complicated stuff. It makes using objects simpler by focusing on what they do, not how they do it.\n",
    "\n",
    "3.Inheritance:  \n",
    "Inheritance lets one class borrow features (like variables and functions) from another class. This helps save time and effort by reusing existing code.\n",
    "\n",
    "4.Polymorphism:  \n",
    "Polymorphism enables objects to be treated as instances of their parent class rather than their actual class. It allows a single interface to represent different underlying forms (e.g., method overriding and method overloading).\n",
    "\n",
    "5.Message Passing:  \n",
    "Objects talk to each other by sending messages, which are like calling functions. This helps them work together to perform tasks. \n",
    "'''"
   ]
  },
  {
   "cell_type": "code",
   "execution_count": 11,
   "id": "ac59d2ef-48fc-4f5f-9a8b-ca49f287c575",
   "metadata": {},
   "outputs": [
    {
     "name": "stdout",
     "output_type": "stream",
     "text": [
      "Car Information: Maruti Baleno 2020\n"
     ]
    }
   ],
   "source": [
    "#2.Write a Python class for a `Car` with attributes for `make`, `model`, and `year`. Include a method to display the car's information.\n",
    "\n",
    "class Car:\n",
    "    def __init__(self,make,model,year):\n",
    "        self.make=make\n",
    "        self.model=model\n",
    "        self.year=year\n",
    "\n",
    "    def display_info(self):\n",
    "        print(f\"Car Information: {self.make} {self.model} {self.year}\") # print car info as a string\n",
    "        \n",
    "\n",
    "car=Car(\"Maruti\",\"Baleno\",2020)\n",
    "car.display_info()\n",
    "\n",
    "    \n",
    "    "
   ]
  },
  {
   "cell_type": "code",
   "execution_count": null,
   "id": "148f7bbc-c6a2-4fad-8855-267caece1e79",
   "metadata": {},
   "outputs": [],
   "source": [
    "#3.Explain the difference between instance methods and class methods. Provide an example of each.\n",
    "'''Ans.\n",
    "Instance Methods:\n",
    "\n",
    "Belong to the instance of a class and operate on instance data.\n",
    "Require an instance of the class to be called.\n",
    "The first parameter is always self, which refers to the instance.\n",
    "\n",
    "Class Methods:\n",
    "\n",
    "Belong to the class itself and can modify class-level data.\n",
    "Do not operate on instance data unless explicitly passed.\n",
    "The first parameter is cls, which refers to the class.\n",
    "Defined using the @classmethod decorator.\n",
    "\n",
    "Key Differences:\n",
    "First Parameter: Instance methods use self, while class methods use cls.\n",
    "Access Level: Instance methods can access instance attributes, while class methods can only access class-level attributes.\n",
    "Usage: Instance methods are for operations related to a particular object, while class methods are for operations that pertain to the class as a whole.\n",
    "'''"
   ]
  },
  {
   "cell_type": "code",
   "execution_count": 12,
   "id": "3a54f88e-f866-4e19-8a8b-094426ae3112",
   "metadata": {},
   "outputs": [
    {
     "name": "stdout",
     "output_type": "stream",
     "text": [
      "Instance Data: Instance Level Data\n"
     ]
    }
   ],
   "source": [
    "#Example of instance class:\n",
    "class Example:\n",
    "    def __init__(self, instance_variable):\n",
    "        self.instance_variable = instance_variable  # Instance variable\n",
    "\n",
    "    # Instance Method\n",
    "    def instance_method(self):\n",
    "        return f\"Instance Data: {self.instance_variable}\"\n",
    "\n",
    "# Using the Instance Method\n",
    "obj = Example(\"Instance Level Data\")\n",
    "print(obj.instance_method())  # Output: Instance Data: Instance Level Data\n"
   ]
  },
  {
   "cell_type": "code",
   "execution_count": 13,
   "id": "00a0746a-a921-4c27-813d-9f0ff17a099b",
   "metadata": {},
   "outputs": [
    {
     "name": "stdout",
     "output_type": "stream",
     "text": [
      "Class Data: Class Level Data\n"
     ]
    }
   ],
   "source": [
    "#Example of class method:\n",
    "class Example:\n",
    "    class_variable = \"Class Level Data\"  # Class variable\n",
    "\n",
    "    # Class Method\n",
    "    @classmethod\n",
    "    def class_method(cls):\n",
    "        return f\"Class Data: {cls.class_variable}\"\n",
    "\n",
    "# Using the Class Method\n",
    "print(Example.class_method())  # Output: Class Data: Class Level Data"
   ]
  },
  {
   "cell_type": "code",
   "execution_count": 20,
   "id": "fa26a1bd-8c56-4c09-84f9-be6d89455512",
   "metadata": {},
   "outputs": [
    {
     "name": "stdout",
     "output_type": "stream",
     "text": [
      "One argument: Hello\n",
      "Two arguments: Hello and World\n"
     ]
    }
   ],
   "source": [
    "#4. How does Python implement method overloading? Give an example.\n",
    "'''Ans.\n",
    "Python does not support method overloading in the same way that languages like Java or C++ do, where you can have multiplemethods with the same name\n",
    "but different parameters. Instead, Python handles method overloading by using default arguments or variable-length argument lists to create \n",
    "methods that can accept different numbers or types of arguments.'''\n",
    "\n",
    "#example\n",
    "class Example:\n",
    "    def show_one(self, a):\n",
    "        # Set instance variable a and print it\n",
    "        self.a = a\n",
    "        print(f\"One argument: {self.a}\")\n",
    "\n",
    "    def show_two(self, a, b):\n",
    "        # Set instance variables a and b and print them\n",
    "        self.a = a\n",
    "        self.b = b\n",
    "        print(f\"Two arguments: {self.a} and {self.b}\")\n",
    "\n",
    "# Create an instance of the class\n",
    "obj = Example()\n",
    "\n",
    "# Call the methods with different numbers of arguments\n",
    "obj.show_one(\"Hello\")           # Output: One argument: Hello\n",
    "obj.show_two(\"Hello\", \"World\")  # Output: Two arguments: Hello and World\n",
    "\n",
    "\n"
   ]
  },
  {
   "cell_type": "code",
   "execution_count": 24,
   "id": "d0e44901-ce5a-4f82-8a2f-630f39b6f660",
   "metadata": {},
   "outputs": [
    {
     "name": "stdout",
     "output_type": "stream",
     "text": [
      "10\n",
      "This is a public method.\n",
      "20\n",
      "This is a protected method.\n",
      "30\n",
      "This is a private method.\n"
     ]
    }
   ],
   "source": [
    "#5.What are the three types of access modifiers in Python? How are they denoted?\n",
    "'''\n",
    "Ans. In Python, there are three types of access modifiers that control the visibility of class attributes and methods. \n",
    "They are:Public ,Private,Protected\n",
    "\n",
    "1.Public:\n",
    "Description: These members (attributes and methods) are accessible from anywhere, both inside and outside the class.\n",
    "Denotation: No special character is used before the member name.\n",
    "'''\n",
    "#Example\n",
    "class MyClass:\n",
    "    def __init__(self):\n",
    "        self.public_var = 10  # Public variable\n",
    "\n",
    "    def public_method(self):\n",
    "        print(\"This is a public method.\")\n",
    "\n",
    "obj = MyClass()\n",
    "print(obj.public_var)  # Accessible from outside the class\n",
    "obj.public_method()    # Can be called from outside the class\n",
    "\n",
    "'''\n",
    "2.Protected:\n",
    "Description: These members are intended to be accessible within the class and its subclasses. \n",
    "They are not meant to be accessed from outside the class hierarchy, but Python does not enforce this restriction strictly.\n",
    "Denotation: Prefixed with a single underscore _.\n",
    "'''\n",
    "#Example\n",
    "class MyClass:\n",
    "    def __init__(self):\n",
    "        self._protected_var = 20  # Protected variable\n",
    "\n",
    "    def _protected_method(self):\n",
    "        print(\"This is a protected method.\")\n",
    "\n",
    "obj = MyClass()\n",
    "print(obj._protected_var)  # Can still be accessed, but considered \"protected\"\n",
    "obj._protected_method()    # Can be called, but it should be avoided as it goes against the convention of treating it as protected.\n",
    "'''\n",
    "Private:\n",
    "Description: These members are intended to be accessible only within the class they are defined in. Python uses name mangling to make them harder to access from outside, but they can still be accessed with special syntax.\n",
    "Denotation: Prefixed with double underscores __\n",
    "'''\n",
    "#Example:\n",
    "class MyClass:\n",
    "    def __init__(self):\n",
    "        self.__private_var = 30  # Private variable\n",
    "\n",
    "    def __private_method(self):\n",
    "        print(\"This is a private method.\")\n",
    "\n",
    "obj = MyClass()\n",
    "# print(obj.__private_var)  # Will raise an AttributeError\n",
    "# obj.__private_method()    # Will raise an AttributeError\n",
    "\n",
    "# To access private members, you can use name mangling\n",
    "print(obj._MyClass__private_var)  # Accessing private variable using name mangling\n",
    "obj._MyClass__private_method()    # Calling private method using name mangling\n"
   ]
  },
  {
   "cell_type": "code",
   "execution_count": 4,
   "id": "e3a27e30-be25-4679-bcf6-9ba9939ab5b4",
   "metadata": {},
   "outputs": [
    {
     "name": "stdout",
     "output_type": "stream",
     "text": [
      "Parent1 class method\n",
      "Parent2 class method\n"
     ]
    }
   ],
   "source": [
    "#6.Describe the five types of inheritance in Python.Provide a simple example of multiple inheritance. \n",
    "'''Ans.\n",
    "Five type of inheritance are as follows:\n",
    "1.Single Inheritance\n",
    "2.Multiple Inheritance\n",
    "3.Multilevel Inheritance\n",
    "4.Hierarchical Inheritance\n",
    "5.Hybrid Inheritance\n",
    "\n",
    "Single Inheritance:\n",
    "A single child class inherits the properties and methods of one parent class.\n",
    "Useful for simple and straightforward relationships between classes.\n",
    "\n",
    "Multiple Inheritance:\n",
    "A child class inherits from multiple parent classes.\n",
    "Allows combining features from multiple sources but can lead to method conflicts resolved using Method Resolution Order (MRO).\n",
    "\n",
    "Multilevel Inheritance:\n",
    "Involves a chain of inheritance where a class inherits from a parent class, and then another class inherits from the child class.\n",
    "Useful for extending functionality across levels in a hierarchy.\n",
    "\n",
    "Hierarchical Inheritance:\n",
    "A single parent class is inherited by multiple child classes.\n",
    "Allows shared functionality to be distributed among different derived classes.\n",
    "\n",
    "Hybrid Inheritance:\n",
    "Combines multiple inheritance types (e.g., hierarchical and multilevel) in one structure.\n",
    "Python handles potential issues like the diamond problem using the C3 Linearization algorithm.\n",
    "'''\n",
    "#simple example of multiple inheritance.\n",
    "class Parent1:\n",
    "    def show1(self):\n",
    "        print(\"Parent1 class method\")\n",
    "\n",
    "class Parent2:\n",
    "    def show2(self):\n",
    "        print(\"Parent2 class method\")\n",
    "\n",
    "class Child(Parent1, Parent2):\n",
    "    pass\n",
    "\n",
    "obj = Child()\n",
    "obj.show1()  # Output: Parent1 class method\n",
    "obj.show2()  # Output: Parent2 class method\n",
    "\n",
    "\n"
   ]
  },
  {
   "cell_type": "code",
   "execution_count": 7,
   "id": "efe298b7-8932-4205-af7a-5de7acc1d66d",
   "metadata": {},
   "outputs": [
    {
     "name": "stdout",
     "output_type": "stream",
     "text": [
      "(<class '__main__.D'>, <class '__main__.B'>, <class '__main__.C'>, <class '__main__.A'>, <class 'object'>)\n",
      "[<class '__main__.D'>, <class '__main__.B'>, <class '__main__.C'>, <class '__main__.A'>, <class 'object'>]\n",
      "Help on class D in module __main__:\n",
      "\n",
      "class D(B, C)\n",
      " |  Method resolution order:\n",
      " |      D\n",
      " |      B\n",
      " |      C\n",
      " |      A\n",
      " |      builtins.object\n",
      " |\n",
      " |  Data descriptors inherited from A:\n",
      " |\n",
      " |  __dict__\n",
      " |      dictionary for instance variables\n",
      " |\n",
      " |  __weakref__\n",
      " |      list of weak references to the object\n",
      "\n"
     ]
    }
   ],
   "source": [
    "#7.What is the Method Resolution Order (MRO) in Python? How can you retrieve it programmatically?\n",
    "'''Ans.\n",
    "### Method Resolution Order (MRO) in Python\n",
    "The **Method Resolution Order (MRO)** determines the sequence in which classes are searched when executing a method or accessing an attribute. This is especially important in cases involving multiple inheritance, where the order of searching through parent classes needs to be defined to avoid ambiguity.\n",
    "\n",
    "Python uses the C3 Linearization Algorithm to compute the MRO, which ensures:\n",
    "1. A consistent and predictable order.\n",
    "2. That child classes are prioritized over parent classes.\n",
    "3. That the order of base classes in the inheritance tree is preserved.\n",
    "\n",
    "Retrieving MRO Programmatically\n",
    "You can retrieve the MRO of a class using:\n",
    "1. ClassName.__mro__: Returns a tuple showing the MRO.\n",
    "2. ClassName.mro(): Returns a list of classes in the MRO.\n",
    "3. help(ClassName): Displays detailed class information, including the MRO.\n",
    "'''\n",
    "#Example\n",
    "\n",
    "class A:\n",
    "    pass\n",
    "\n",
    "class B(A):\n",
    "    pass\n",
    "\n",
    "class C(A):\n",
    "    pass\n",
    "\n",
    "class D(B, C):\n",
    "    pass\n",
    "\n",
    "# Retrieve MRO\n",
    "print(D.__mro__)  # Output: (<class '__main__.D'>, <class '__main__.B'>, <class '__main__.C'>, <class '__main__.A'>, <class 'object'>)\n",
    "print(D.mro())    # Output: [<class '__main__.D'>, <class '__main__.B'>, <class '__main__.C'>, <class '__main__.A'>, <class 'object'>]\n",
    "help(D)           # Displays MRO along with other class details.\n",
    "\n",
    "\n"
   ]
  },
  {
   "cell_type": "code",
   "execution_count": 14,
   "id": "07f80260-3470-4a9c-b1db-66fdb51f9e41",
   "metadata": {},
   "outputs": [
    {
     "name": "stdout",
     "output_type": "stream",
     "text": [
      "Area of Circle: 78.5\n",
      "Area of Rectangle: 24\n"
     ]
    }
   ],
   "source": [
    "#8.Create an abstract base class `Shape` with an abstract method `area()`. Then create two subclasses`Circle` \n",
    "#and `Rectangle` that implement the `area()` method.\n",
    "from abc import ABC, abstractmethod\n",
    "\n",
    "\n",
    "# Abstract Base Class\n",
    "class Shape(ABC):\n",
    "    @abstractmethod\n",
    "    def area(self):\n",
    "        pass\n",
    "\n",
    "# Subclass: Circle\n",
    "class Circle(Shape):\n",
    "    def __init__(self, radius):\n",
    "        self.radius = radius\n",
    "\n",
    "    def area(self):\n",
    "        return 3.14 * self.radius ** 2\n",
    "\n",
    "# Subclass: Rectangle\n",
    "class Rectangle(Shape):\n",
    "    def __init__(self, length, width):\n",
    "        self.length = length\n",
    "        self.width = width\n",
    "\n",
    "    def area(self):\n",
    "        return self.length * self.width\n",
    "\n",
    "\n",
    "circle = Circle(5)\n",
    "print(f\"Area of Circle: {circle.area()}\")  # Output: Area of Circle: 78.53981633974483\n",
    "\n",
    "rectangle = Rectangle(4, 6)\n",
    "print(f\"Area of Rectangle: {rectangle.area()}\")  # Output: Area of Rectangle: 24\n"
   ]
  },
  {
   "cell_type": "code",
   "execution_count": 15,
   "id": "e06ee605-778f-492f-a61f-2a2ff3c14321",
   "metadata": {},
   "outputs": [
    {
     "name": "stdout",
     "output_type": "stream",
     "text": [
      "The area of the Triangle is: 25.0\n",
      "The area of the Square is: 16\n"
     ]
    }
   ],
   "source": [
    "#9.Demonstrate polymorphism by creating a function that can work with different shape objects to calculate and print their areas\n",
    "# Triangle Class\n",
    "class Triangle:\n",
    "    def __init__(self, base, height):\n",
    "        self.base = base\n",
    "        self.height = height\n",
    "\n",
    "    def area(self):\n",
    "        return 0.5 * self.base * self.height\n",
    "\n",
    "# Square Class\n",
    "class Square:\n",
    "    def __init__(self, side):\n",
    "        self.side = side\n",
    "\n",
    "    def area(self):\n",
    "        return self.side ** 2\n",
    "\n",
    "# Function demonstrating polymorphism\n",
    "def p_area(shape):\n",
    "    print(f\"The area of the {shape.__class__.__name__} is: {shape.area()}\")\n",
    "\n",
    "triangle = Triangle(10, 5)\n",
    "square = Square(4)\n",
    "\n",
    "p_area(triangle)  # Output: The area of the Triangle is: 25.0\n",
    "p_area(square)    # Output: The area of the Square is: 16\n"
   ]
  },
  {
   "cell_type": "code",
   "execution_count": 16,
   "id": "bcf456d8-a889-4b2d-99e8-c110428270b3",
   "metadata": {},
   "outputs": [
    {
     "name": "stdout",
     "output_type": "stream",
     "text": [
      "Deposited: 500. New balance: 1500\n",
      "Withdrawn: 200. New balance: 1300\n",
      "1300\n"
     ]
    }
   ],
   "source": [
    "#10. Implement encapsulation in a `BankAccount` class with private attributes for `balance`.\n",
    "class BankAccount:\n",
    "    def __init__(self, initial_balance):\n",
    "        self.__balance = initial_balance  # Private attribute\n",
    "\n",
    "    # Public method to get the balance\n",
    "    def get_balance(self):\n",
    "        return self.__balance\n",
    "\n",
    "    # Public method to deposit money\n",
    "    def deposit(self, amount):\n",
    "        if amount > 0:\n",
    "            self.__balance += amount\n",
    "            print(f\"Deposited: {amount}. New balance: {self.__balance}\")\n",
    "        else:\n",
    "            print(\"Deposit amount must be positive.\")\n",
    "\n",
    "    # Public method to withdraw money\n",
    "    def withdraw(self, amount):\n",
    "        if 0 < amount <= self.__balance:\n",
    "            self.__balance -= amount\n",
    "            print(f\"Withdrawn: {amount}. New balance: {self.__balance}\")\n",
    "        else:\n",
    "            print(\"Insufficient balance or invalid amount.\")\n",
    "\n",
    "\n",
    "account = BankAccount(1000)\n",
    "account.deposit(500)       # Output: Deposited: 500. New balance: 1500\n",
    "account.withdraw(200)      # Output: Withdrawn: 200. New balance: 1300\n",
    "print(account.get_balance())  # Output: 1300\n"
   ]
  },
  {
   "cell_type": "code",
   "execution_count": 18,
   "id": "3d709328-934e-4aef-aec4-37638cbc803f",
   "metadata": {},
   "outputs": [
    {
     "name": "stdout",
     "output_type": "stream",
     "text": [
      "2h 45m\n",
      "1h 30m\n",
      "4h 15m\n"
     ]
    }
   ],
   "source": [
    "#11.Write a class that overrides the `__str__` and `__add__` magic methods. What will these methods allow you to do?\n",
    "class Time:\n",
    "    def __init__(self, hours, minutes):\n",
    "        self.hours = hours\n",
    "        self.minutes = minutes\n",
    "\n",
    "    # Overriding __str__ to provide a custom string representation\n",
    "    def __str__(self):\n",
    "        return f\"{self.hours}h {self.minutes}m\"\n",
    "\n",
    "    # Overriding __add__ to enable addition of two Time objects\n",
    "    def __add__(self, other):\n",
    "        if isinstance(other, Time):\n",
    "            total_minutes = (self.hours * 60 + self.minutes) + (other.hours * 60 + other.minutes)\n",
    "            return Time(total_minutes // 60, total_minutes % 60)\n",
    "        raise TypeError(\"Can only add Time objects\")\n",
    "\n",
    "time1 = Time(2, 45)\n",
    "time2 = Time(1, 30)\n",
    "\n",
    "print(time1)  # Output: 2h 45m\n",
    "print(time2)  # Output: 1h 30m\n",
    "\n",
    "time3 = time1 + time2\n",
    "print(time3)  # Output: 4h 15m\n"
   ]
  },
  {
   "cell_type": "code",
   "execution_count": 19,
   "id": "7359b246-7ef5-4c54-8045-9acee08c7f5c",
   "metadata": {},
   "outputs": [
    {
     "name": "stdout",
     "output_type": "stream",
     "text": [
      "Execution time: 0.056038 seconds\n",
      "Result: 499999500000\n"
     ]
    }
   ],
   "source": [
    "#12. Create a decorator that measures and prints the execution time of a function\n",
    "import time\n",
    "\n",
    "def measure_execution_time(func):\n",
    "    def wrapper(*args, **kwargs):\n",
    "        start_time = time.time()  # Record the start time\n",
    "        result = func(*args, **kwargs)  # Call the original function\n",
    "        end_time = time.time()  # Record the end time\n",
    "        \n",
    "        execution_time = end_time - start_time  # Calculate the execution time\n",
    "        print(f\"Execution time: {execution_time:.6f} seconds\")\n",
    "        \n",
    "        return result  # Return the result of the original function\n",
    "    \n",
    "    return wrapper\n",
    "\n",
    "@measure_execution_time\n",
    "def sample_function(n):\n",
    "    total = 0\n",
    "    for i in range(n):\n",
    "        total += i\n",
    "    return total\n",
    "\n",
    "# Calling the function\n",
    "result = sample_function(1000000)\n",
    "print(f\"Result: {result}\")\n"
   ]
  },
  {
   "cell_type": "code",
   "execution_count": 20,
   "id": "4f8c5c32-ed43-4c20-aa94-aa8935bc6582",
   "metadata": {},
   "outputs": [
    {
     "name": "stdout",
     "output_type": "stream",
     "text": [
      "Method from class B\n"
     ]
    }
   ],
   "source": [
    "#13.Explain the concept of the Diamond Problem in multiple inheritance. How does Python resolve it?\n",
    "'''Ans.\n",
    "The Diamond Problem in multiple inheritance is a complication that arises when a class inherits from two or more classes that share \n",
    "a common base class. This creates a situation where it is unclear which path should be followed to resolve methods or attributes, \n",
    "leading to potential ambiguity in the method resolution order (MRO).\n",
    "'''\n",
    "#example\n",
    "class A:\n",
    "    def show(self):\n",
    "        print(\"Method from class A\")\n",
    "\n",
    "class B(A):\n",
    "    def show(self):\n",
    "        print(\"Method from class B\")\n",
    "\n",
    "class C(A):\n",
    "    def show(self):\n",
    "        print(\"Method from class C\")\n",
    "\n",
    "class D(B, C):\n",
    "    pass\n",
    "\n",
    "d = D()\n",
    "d.show()  # Which \"show\" method should be called?\n",
    "\n",
    "'''\n",
    "How Python Resolves the Diamond Problem:\n",
    "Python handles this problem using the C3 Linearization Algorithm (also called C3 superclass linearization), which determines the method resolution order (MRO). The MRO is the sequence in which base classes are looked up when searching for a method or attribute.\n",
    "\n",
    "The C3 Linearization Algorithm follows these rules:\n",
    "Left-to-right order: The MRO respects the order in which the base classes are specified in the class declaration.\n",
    "Depth-first search: Python traverses the inheritance graph in a depth-first manner.\n",
    "Avoid duplication: Each class appears only once in the MRO, even if it is part of multiple inheritance paths.\n",
    "'''\n"
   ]
  },
  {
   "cell_type": "code",
   "execution_count": 21,
   "id": "285141c3-09ce-4f63-b5bc-a5c2e79fd1c5",
   "metadata": {},
   "outputs": [
    {
     "name": "stdout",
     "output_type": "stream",
     "text": [
      "Number of instances created: 3\n"
     ]
    }
   ],
   "source": [
    "#14. Write a class method that keeps track of the number of instances created from a class.\n",
    "class InstanceCounter:\n",
    "    instance_count = 0  # Class attribute to store the number of instances\n",
    "\n",
    "    def __init__(self):\n",
    "        InstanceCounter.instance_count += 1  # Increment count when an instance is created\n",
    "\n",
    "    @classmethod\n",
    "    def get_instance_count(cls):\n",
    "        return cls.instance_count  # Class method to return the instance count\n",
    "\n",
    "# Creating instances\n",
    "instance1 = InstanceCounter()\n",
    "instance2 = InstanceCounter()\n",
    "instance3 = InstanceCounter()\n",
    "\n",
    "# Accessing the class method to get the number of instances created\n",
    "print(\"Number of instances created:\", InstanceCounter.get_instance_count())  # Output: 3\n"
   ]
  },
  {
   "cell_type": "code",
   "execution_count": 24,
   "id": "89ad1290-f292-47fb-b7b1-6314cfa7f6ec",
   "metadata": {},
   "outputs": [
    {
     "name": "stdout",
     "output_type": "stream",
     "text": [
      "Is 2024 a leap year? Yes\n",
      "Is 2023 a leap year? No\n",
      "Is 3014 a leap year? No\n"
     ]
    }
   ],
   "source": [
    "#15.Implement a static method in a class that checks if a given year is a leap year.\n",
    "class YearChecker:\n",
    "    @staticmethod\n",
    "    def is_leap_year(year):\n",
    "        # A leap year is divisible by 4, but not divisible by 100 unless also divisible by 400\n",
    "        if (year % 4 == 0 and year % 100 != 0) or (year % 400 == 0):\n",
    "            return True\n",
    "        else:\n",
    "            return False\n",
    "\n",
    "# Testing the static method\n",
    "year = 2024\n",
    "print(f\"Is {year} a leap year? {'Yes' if YearChecker.is_leap_year(year) else 'No'}\")  \n",
    "year = 2023\n",
    "print(f\"Is {year} a leap year? {'Yes' if YearChecker.is_leap_year(year) else 'No'}\")  \n",
    "year = 3014\n",
    "print(f\"Is {year} a leap year? {'Yes' if YearChecker.is_leap_year(year) else 'No'}\")  "
   ]
  },
  {
   "cell_type": "code",
   "execution_count": null,
   "id": "90160594-dd83-4690-a90d-d3eed8b6d5ea",
   "metadata": {},
   "outputs": [],
   "source": []
  }
 ],
 "metadata": {
  "kernelspec": {
   "display_name": "Python 3 (ipykernel)",
   "language": "python",
   "name": "python3"
  },
  "language_info": {
   "codemirror_mode": {
    "name": "ipython",
    "version": 3
   },
   "file_extension": ".py",
   "mimetype": "text/x-python",
   "name": "python",
   "nbconvert_exporter": "python",
   "pygments_lexer": "ipython3",
   "version": "3.13.0"
  }
 },
 "nbformat": 4,
 "nbformat_minor": 5
}
